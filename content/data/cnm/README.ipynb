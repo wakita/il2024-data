{
  "cells": [
    {
      "cell_type": "markdown",
      "metadata": {},
      "source": [
        "# CNM 手法の実験結果を記録したデータセット群\n",
        "\n",
        "情報科目実施委員会 (2024-04-01)\n",
        "\n",
        "`data/cnm` には CNM 手法の実験結果を記録したデータセットを保存してあります。各ファイルは空白区切りの数値データ列です。\n",
        "\n",
        "## `etime-size.data`\n",
        "\n",
        "分析対象の社会ネットワークの規模を変化させ、解析にかかった時間を計測した結果。$(N, t)$ という形式で大きさが $N$ のネットワークの解析に $t$ 秒要したことを示している。\n",
        "\n",
        "図５の元データです。（図５は他の解析手法に対する `etime-size.data` と併せて作成しました）\n",
        "\n",
        "## `ratio-join.data`\n",
        "\n",
        "クラスタリング作業中にクラスタを合併していく作業における、合併比率のデータです。$(x, r)$ という形式で，$x$ 番目の合併における合併比率が $r$ だったことを記録しています。500K（つまり、ユーザ数が50万）の大きさの社会ネットワークに対する結果だけを配布しています。\n",
        "\n",
        "図３の元データです。\n",
        "\n",
        "## `time-join-100K.data`, `time-join-200K.data`, …\n",
        "\n",
        "10,000回ごとの合併に要した時間を社会ネットワークの大きさを記録した結果です。分析対象の社会ネットワークを変化させて実験したので、実験対象の大きさが100K, 200K, … と表されています。ここで K は 1,000 を表しています。\n",
        "\n",
        "図２の元データ群です。"
      ]
    },
    {
      "cell_type": "code",
      "execution_count": null,
      "metadata": {
        "trusted": true
      },
      "outputs": [],
      "source": []
    }
  ],
  "metadata": {
    "kernelspec": {
      "display_name": "Python (Pyodide)",
      "language": "python",
      "name": "python"
    },
    "language_info": {
      "codemirror_mode": {
        "name": "python",
        "version": 3
      },
      "file_extension": ".py",
      "mimetype": "text/x-python",
      "name": "python",
      "nbconvert_exporter": "python",
      "pygments_lexer": "ipython3",
      "version": "3.8"
    }
  },
  "nbformat": 4,
  "nbformat_minor": 4
}
