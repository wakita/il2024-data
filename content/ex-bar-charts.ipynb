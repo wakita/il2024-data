{
  "metadata": {
    "kernelspec": {
      "name": "python",
      "display_name": "Python (Pyodide)",
      "language": "python"
    },
    "language_info": {
      "codemirror_mode": {
        "name": "python",
        "version": 3
      },
      "file_extension": ".py",
      "mimetype": "text/x-python",
      "name": "python",
      "nbconvert_exporter": "python",
      "pygments_lexer": "ipython3",
      "version": "3.8"
    }
  },
  "nbformat_minor": 4,
  "nbformat": 4,
  "cells": [
    {
      "cell_type": "markdown",
      "source": "# 実習３：統合棒グラフ（図２）\n\n",
      "metadata": {}
    },
    {
      "cell_type": "code",
      "source": "%pip install -q pandas nbformat plotly\n\nimport os\n\nimport pandas as pd\npd.set_option('display.max_rows', 10)    # 大きな表の表示領域を上下5行分のみに制限する設定\n\nimport plotly.express as px",
      "metadata": {
        "trusted": true
      },
      "outputs": [],
      "execution_count": null
    },
    {
      "cell_type": "markdown",
      "source": "# 注意\n\n以下のスクリプトは本実習で用いる５つのデータセットを読み込みます。実習1で扱ったように、ここでも `.assign(size=...)` によって各データセットを区別しています。",
      "metadata": {}
    },
    {
      "cell_type": "code",
      "source": "cnm100 = pd.read_csv(f'data/cnm/time-join-100K.data', sep=' ', names=['joins', 'etime']).assign(size='100')\ncnm200 = pd.read_csv(f'data/cnm/time-join-200K.data', sep=' ', names=['joins', 'etime']).assign(size='200')\ncnm300 = pd.read_csv(f'data/cnm/time-join-300K.data', sep=' ', names=['joins', 'etime']).assign(size='300')\ncnm400 = pd.read_csv(f'data/cnm/time-join-400K.data', sep=' ', names=['joins', 'etime']).assign(size='400')\ncnm500 = pd.read_csv(f'data/cnm/time-join-500K.data', sep=' ', names=['joins', 'etime']).assign(size='500')",
      "metadata": {
        "trusted": true
      },
      "outputs": [],
      "execution_count": null
    },
    {
      "cell_type": "markdown",
      "source": "ここで読み込んだ5つのデータセットを、やはり実習1と同様に `pd.concat([...])` によって、ひとつに統合しましょう。",
      "metadata": {}
    },
    {
      "cell_type": "code",
      "source": "cnm_series = pd.concat([cnm100, cnm200, cnm300, cnm400, cnm500])\ncnm_series",
      "metadata": {
        "trusted": true
      },
      "outputs": [],
      "execution_count": null
    },
    {
      "cell_type": "markdown",
      "source": "Plotly Express で棒グラフを出力するには `px.bar(データセット, ...)` を用います。二つの軸と、データセットを色で区別するやり方は、実習1のときと同様です。",
      "metadata": {}
    },
    {
      "cell_type": "code",
      "source": "px.bar(cnm_series, x='joins', y='etime', color='size')",
      "metadata": {
        "trusted": true
      },
      "outputs": [],
      "execution_count": null
    },
    {
      "cell_type": "markdown",
      "source": "お手本では、データセットの区別は色ではなく白黒の模様で表現しています。模様の指定方法はすこし複雑ですが、以下のように設定できます。",
      "metadata": {}
    },
    {
      "cell_type": "code",
      "source": "fig = px.bar(cnm_series, x='joins', y='etime',\n             pattern_shape='size', pattern_shape_sequence=['|', '-', 'x', '/', ''],\n             width=800, height=600)\n\nfig.update_traces(\n    marker=dict(color='black', line_color='black',\n                pattern_fillmode='replace', pattern_size=5)\n)",
      "metadata": {
        "trusted": true
      },
      "outputs": [],
      "execution_count": null
    },
    {
      "cell_type": "markdown",
      "source": "画像ファイルを出力する方法もこれまでの実習と同様です。",
      "metadata": {}
    },
    {
      "cell_type": "code",
      "source": "fig.write_image('images/fig2-cnm-joins-time-series.pdf')",
      "metadata": {
        "trusted": true
      },
      "outputs": [],
      "execution_count": null
    },
    {
      "cell_type": "code",
      "source": "",
      "metadata": {
        "trusted": true
      },
      "outputs": [],
      "execution_count": null
    }
  ]
}