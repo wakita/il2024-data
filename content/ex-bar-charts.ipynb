{
  "cells": [
    {
      "cell_type": "markdown",
      "metadata": {},
      "source": [
        "# 統合棒グラフ（図２）\n",
        "\n"
      ]
    },
    {
      "cell_type": "code",
      "execution_count": null,
      "metadata": {
        "trusted": true
      },
      "outputs": [],
      "source": [
        "%pip install -q pandas nbformat plotly\n",
        "\n",
        "import pandas as pd\n",
        "pd.set_option('display.max_rows', 10)    # 大きな表の表示領域を上下5行分のみに制限する設定\n",
        "\n",
        "import plotly.express as px"
      ]
    },
    {
      "cell_type": "markdown",
      "metadata": {},
      "source": [
        "# 注意\n",
        "\n",
        "以下のスクリプトは本実習で用いる５つのデータセットを読み込みます。実習1で扱ったように、ここでも `.assign(size=...)` によって各データセットを区別しています。"
      ]
    },
    {
      "cell_type": "code",
      "execution_count": null,
      "metadata": {
        "trusted": true
      },
      "outputs": [],
      "source": [
        "cnm100 = pd.read_csv(f'data/cnm/time-join-100K.data', sep=' ', names=['joins', 'etime']).assign(size='100')\n",
        "cnm200 = pd.read_csv(f'data/cnm/time-join-200K.data', sep=' ', names=['joins', 'etime']).assign(size='200')\n",
        "cnm300 = pd.read_csv(f'data/cnm/time-join-300K.data', sep=' ', names=['joins', 'etime']).assign(size='300')\n",
        "cnm400 = pd.read_csv(f'data/cnm/time-join-400K.data', sep=' ', names=['joins', 'etime']).assign(size='400')\n",
        "cnm500 = pd.read_csv(f'data/cnm/time-join-500K.data', sep=' ', names=['joins', 'etime']).assign(size='500')"
      ]
    },
    {
      "cell_type": "markdown",
      "metadata": {},
      "source": [
        "ここで読み込んだ5つのデータセットを、やはり実習1と同様に `pd.concat([...])` によって、ひとつに統合しましょう。"
      ]
    },
    {
      "cell_type": "code",
      "execution_count": null,
      "metadata": {
        "trusted": true
      },
      "outputs": [],
      "source": [
        "cnm_series = pd.concat([cnm100, cnm200, cnm300, cnm400, cnm500])\n",
        "cnm_series"
      ]
    },
    {
      "cell_type": "markdown",
      "metadata": {},
      "source": [
        "Plotly Express で棒グラフを出力するには `px.bar(データセット, ...)` を用います。二つの軸と、データセットを色で区別するやり方は、実習1のときと同様です。"
      ]
    },
    {
      "cell_type": "code",
      "execution_count": null,
      "metadata": {
        "trusted": true
      },
      "outputs": [],
      "source": [
        "px.bar(cnm_series, x='joins', y='etime', color='size')"
      ]
    },
    {
      "cell_type": "markdown",
      "metadata": {},
      "source": [
        "お手本では、データセットの区別は色ではなく白黒の模様で表現しています。模様の指定方法はすこし複雑ですが、以下のように設定できます。"
      ]
    },
    {
      "cell_type": "code",
      "execution_count": null,
      "metadata": {
        "trusted": true
      },
      "outputs": [],
      "source": [
        "fig = px.bar(cnm_series, x='joins', y='etime',\n",
        "             pattern_shape='size', pattern_shape_sequence=['|', '-', 'x', '/', ''],\n",
        "             width=800, height=600)\n",
        "\n",
        "fig.update_traces(\n",
        "    marker=dict(color='black', line_color='black',\n",
        "                pattern_fillmode='replace', pattern_size=5)\n",
        ")"
      ]
    },
    {
      "cell_type": "markdown",
      "metadata": {},
      "source": [
        "画像ファイルを出力する方法もこれまでの実習と同様です。"
      ]
    },
    {
      "cell_type": "code",
      "execution_count": null,
      "metadata": {
        "trusted": true
      },
      "outputs": [],
      "source": [
        "fig.write_image('images/fig2-cnm-joins-time-series.pdf')"
      ]
    },
    {
      "cell_type": "code",
      "execution_count": null,
      "metadata": {
        "trusted": true
      },
      "outputs": [],
      "source": []
    }
  ],
  "metadata": {
    "kernelspec": {
      "display_name": "Python (Pyodide)",
      "language": "python",
      "name": "python"
    },
    "language_info": {
      "codemirror_mode": {
        "name": "python",
        "version": 3
      },
      "file_extension": ".py",
      "mimetype": "text/x-python",
      "name": "python",
      "nbconvert_exporter": "python",
      "pygments_lexer": "ipython3",
      "version": "3.8"
    }
  },
  "nbformat": 4,
  "nbformat_minor": 4
}
