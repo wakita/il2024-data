{
  "metadata": {
    "kernelspec": {
      "display_name": "Python (Pyodide)",
      "language": "python",
      "name": "python"
    },
    "language_info": {
      "codemirror_mode": {
        "name": "python",
        "version": 3
      },
      "file_extension": ".py",
      "mimetype": "text/x-python",
      "name": "python",
      "nbconvert_exporter": "python",
      "pygments_lexer": "ipython3",
      "version": "3.8"
    },
    "colab": {
      "provenance": [],
      "toc_visible": true
    }
  },
  "nbformat_minor": 5,
  "nbformat": 4,
  "cells": [
    {
      "id": "MgrW48yqT9C1",
      "cell_type": "markdown",
      "source": "# 折れ線グラフ\n\n複数の実験データを読み込み、それらをまとめた片対数折れ線グラフを作成する実習と課題をとおして学びます。\n\nこの実習では、データの処理に Pandas、データの描画に Plotly Express と呼ばれる Python の拡張機能を用います。\n\n次のコードセルは Pandas と Plotly Express を利用可能にする設定です。これらの機能はそれぞれ `pd`, `px` という名称で利用できるようになります。",
      "metadata": {
        "id": "MgrW48yqT9C1"
      }
    },
    {
      "id": "8b4df02b",
      "cell_type": "code",
      "source": "%pip install -q pandas nbformat plotly\n\nimport pandas as pd\npd.set_option('display.max_rows', 10)    # 大きな表の表示領域を上下5行分のみに制限する設定\n\nimport plotly.express as px\nimport plotly.io as pio\npio.templates.default = 'plotly_white'   # 図の背景色を白に設定",
      "metadata": {
        "trusted": true
      },
      "outputs": [],
      "execution_count": null
    },
    {
      "id": "TYZ40qsZoU4A",
      "cell_type": "markdown",
      "source": "Jupyter のファイルブラウザで以下を確認しよう。\n\n1. `data.zip` がダウンロードされたこと\n\n1. `data.zip` が展開されて `data/` フォルダが作成され、そのなかに各種データが保存されていること",
      "metadata": {
        "id": "TYZ40qsZoU4A"
      }
    },
    {
      "id": "a555dccd-641d-426b-9fe7-396a64f8ab70",
      "cell_type": "markdown",
      "source": "## 実習 1 (図5)：４手法の実行時間の比較\n\n- スライドに描画されている図を読み取り、どのようなデータが描画されたのかを理解しなさい。\n\n- スライドの説明を振り返って、それぞれのデータがどのフォルダのどのファイルに保存されているのか考えてみよう。",
      "metadata": {
        "id": "a555dccd-641d-426b-9fe7-396a64f8ab70"
      }
    },
    {
      "id": "03ae55c2-a4e0-4195-ae20-adb026894a5f",
      "cell_type": "markdown",
      "source": "## 実習１−１：データの読み込みと表示\n\n実験で扱うデータセットには、テキストファイル形式のものと Excel 形式のものがよく利用されます。本実習で扱うデータセットはすべてテキストファイル形式です。\n\nテキストファイル形式のデータセットは、採用されている区切り文字によって、CSV ファイル、TSV ファイルなどと微妙に様式が異なるものがあります。CSV ファイルは Comma-separeted values （カンマで区切られた値）で、TSV ファイルは Tab-separated values （タブ符号で区切られた値）です。区切り文字には、コンマやタブのほか、空白、セミコロンなどが用いられることも多いです。本実習で扱うデータセットは以下のように、空白区切りの形式です。\n\n~~~\n50000 77.689\n100000 423.707\n150000 1198.823\n200000 2525.566\n250000 3979.562\n300000 6508.614\n350000 9091.961\n400000 11823.245\n450000 16017.558\n500000 21379.217\n~~~\n\n標準的な CSV ファイルの場合、テキストファイルの第一行は表の項目名を書き並べたものとなっています。本実習で扱うデータセットは、上の例のようにデータのみが列挙されており、項目名は保存されていません。\n\nCSV 形式のデータセットは基本的には `pd.read_csv(ファイル名)` で読み込めるようです。TSV 形式やその他の区切り文字が使われている場合は `pd.read_csv(ファイル名, sep='区切り文字')` のように、ファイルのなかで用いられている区切り文字を指定すれば読み込むことができます。\n\nまた、本実習で扱うデータセットのように、項目名が指定されていない場合は、以下の要領で `names=['項目1', '項目2']` のように項目名を適切なものに指定することができます。",
      "metadata": {
        "id": "03ae55c2-a4e0-4195-ae20-adb026894a5f"
      }
    },
    {
      "id": "1886eb30-f122-4fed-9f95-945619fb6bed",
      "cell_type": "code",
      "source": "cnm = pd.read_csv('data/cnm/etime-size.data',\n                  sep=' ',\n                  names=['size', 'etime'])",
      "metadata": {
        "id": "1886eb30-f122-4fed-9f95-945619fb6bed",
        "trusted": true
      },
      "outputs": [],
      "execution_count": null
    },
    {
      "id": "c5a692a6-703e-4650-ad53-d77941d37b1a",
      "cell_type": "markdown",
      "source": "上のコードセルは `data/cnm/etime-size.data` というファイルに記録されたデータを読み込み、そのデータに `cnm` という名前を与えています。\n\n以下のコードセルは、`cnm` と命名されたデータの内容を確認しています。",
      "metadata": {
        "id": "c5a692a6-703e-4650-ad53-d77941d37b1a"
      }
    },
    {
      "id": "94dc75d3-519c-4d99-9805-c17aad92c9a7",
      "cell_type": "code",
      "source": "cnm",
      "metadata": {
        "colab": {
          "base_uri": "https://localhost:8080/",
          "height": 359
        },
        "executionInfo": {
          "elapsed": 1082,
          "status": "ok",
          "timestamp": 1698715231042,
          "user": {
            "displayName": "kxwakita",
            "userId": "12748446268356622369"
          },
          "user_tz": -540
        },
        "id": "94dc75d3-519c-4d99-9805-c17aad92c9a7",
        "outputId": "9c6c04d2-5751-4755-c05b-6a17c03b59b1",
        "trusted": true
      },
      "outputs": [],
      "execution_count": null
    },
    {
      "id": "21793b59",
      "cell_type": "markdown",
      "source": "`data/cnm/etime-size.data` は、ソーシャルネットワークの大きさを 50,000, 100,000, ..., 500,000 と変化させたときの処理時間を記録したデータです。このデータは、実験対象のソーシャルネットワークの大きさ (`size`) と、その処理時間 (`etime`) からなります。\n\nソーシャルネットワークが大きくなるにつれて、処理時間が急激に長くなる点が気になります。たとえば、ソーシャルネットワークの大きさが 250,000 のときの処理時間は約 4,000 秒ですが、大きさが倍の 500,000 になると処理時間は5倍以上の 21,400 秒になります。データの大きさが倍になるごとに処理時間が5倍になったら、100万人規模のソーシャルネットワークの分析は難しいかもしれません。",
      "metadata": {
        "id": "21793b59"
      }
    },
    {
      "id": "18e25246-1d18-48c0-8859-16659e331229",
      "cell_type": "markdown",
      "source": "## データの折れ線表示での確認\n\n上のように読み込んだデータセットを折れ線グラフを作成するには `px.line(データセット, ...)` によって作ることができます。\n\n~~~\npx.line(データセット,\n        x='横軸に該当する属性',\n        y='縦軸に該当する属性',\n        [color='色で区別する属性',]\n        [linedash='破線で区別する属性',])\n~~~\n\n- `x=...` と `y=...` には、データセットの属性のうち、折れ線グラフの横軸と縦軸に用いるものを指定します。\n\n- `color=...` を指定すると、データ列の着色方法を指定できます。`color=...` の利用方法については、のちほど扱います。\n\n- `linedash=...` を指定すると、データ列を描画する先取を指定できます。`linedash=...` の利用方法については、のちほど扱います。\n\nでは、さきほど読み込んだ `cmd` データセットの折れ線グラフを描画してみましょう。",
      "metadata": {
        "id": "18e25246-1d18-48c0-8859-16659e331229"
      }
    },
    {
      "id": "c5eebdb5-4266-47f7-95b0-f5de12a9c49f",
      "cell_type": "code",
      "source": "px.line(cnm, x='size', y='etime')",
      "metadata": {
        "colab": {
          "base_uri": "https://localhost:8080/",
          "height": 542
        },
        "executionInfo": {
          "elapsed": 410,
          "status": "ok",
          "timestamp": 1698715231042,
          "user": {
            "displayName": "kxwakita",
            "userId": "12748446268356622369"
          },
          "user_tz": -540
        },
        "id": "c5eebdb5-4266-47f7-95b0-f5de12a9c49f",
        "outputId": "78cac959-ec95-4c12-fb08-b149ccdb29c0",
        "trusted": true
      },
      "outputs": [],
      "execution_count": null
    },
    {
      "id": "b613d3f2",
      "cell_type": "markdown",
      "source": "同様の方法で HE1, HE2, HN 手法を用いた分析に要した時間の折れ線グラフを順次描きます。",
      "metadata": {}
    },
    {
      "id": "a183cdca-786c-40bb-91ad-fb977b0692e4",
      "cell_type": "code",
      "source": "# HE1 手法の分析に要した時間の折れ線グラフ\n\nhe1 = pd.read_csv('data/he1/etime-size.data', sep=' ', names=['size', 'etime'])\n\npx.line(he1, x='size', y='etime')",
      "metadata": {
        "colab": {
          "base_uri": "https://localhost:8080/",
          "height": 542
        },
        "executionInfo": {
          "elapsed": 409,
          "status": "ok",
          "timestamp": 1698715231042,
          "user": {
            "displayName": "kxwakita",
            "userId": "12748446268356622369"
          },
          "user_tz": -540
        },
        "id": "a183cdca-786c-40bb-91ad-fb977b0692e4",
        "outputId": "209b78f6-d696-4c56-ec31-693d30355965",
        "trusted": true
      },
      "outputs": [],
      "execution_count": null
    },
    {
      "id": "5b598f55-12bc-4a8c-bc43-2479f93980de",
      "cell_type": "code",
      "source": "# HE2 手法の分析に要した時間の折れ線グラフ\n\nhe2 = pd.read_csv('data/he2/etime-size.data', sep=' ', names=['size', 'etime'])\n\npx.line(he2, x='size', y='etime')",
      "metadata": {
        "colab": {
          "base_uri": "https://localhost:8080/",
          "height": 542
        },
        "executionInfo": {
          "elapsed": 1024,
          "status": "ok",
          "timestamp": 1698715231658,
          "user": {
            "displayName": "kxwakita",
            "userId": "12748446268356622369"
          },
          "user_tz": -540
        },
        "id": "5b598f55-12bc-4a8c-bc43-2479f93980de",
        "outputId": "d962a445-a020-4d81-cc97-48aa8b226dc7",
        "trusted": true
      },
      "outputs": [],
      "execution_count": null
    },
    {
      "id": "b932b9ab-a451-49c2-b88a-dff89e8b6244",
      "cell_type": "code",
      "source": "# HN 手法の分析に要した時間の折れ線グラフ\n\nhn  = pd.read_csv('data/hn/etime-size.data',  sep=' ', names=['size', 'etime'])\n\npx.line(hn, x='size', y='etime')",
      "metadata": {
        "colab": {
          "base_uri": "https://localhost:8080/",
          "height": 542
        },
        "executionInfo": {
          "elapsed": 600,
          "status": "ok",
          "timestamp": 1698715231658,
          "user": {
            "displayName": "kxwakita",
            "userId": "12748446268356622369"
          },
          "user_tz": -540
        },
        "id": "b932b9ab-a451-49c2-b88a-dff89e8b6244",
        "outputId": "a4830ea8-0e37-445b-9e7a-0fa73ac9a84e",
        "trusted": true
      },
      "outputs": [],
      "execution_count": null
    },
    {
      "id": "35fbc1f2-2310-4a6c-9dc6-5fef3d1d330d",
      "cell_type": "markdown",
      "source": "## 複数のデータセットを重ねあわせた折れ線グラフの作成\n\nPlotly で複数の4種類のデータセットを重ねあわせた図を生成するには、いくつかの方法があります。ここでは、4種類のデータセットをひとつにまとめあげてから、それを描画する方法を紹介します。以降の作業手順は以下のとおりです。\n\n- 4種類のデータセットをひとつに統合する。\n\n- 統合するときにデータセット源を示す印 (Heuristics) を付加することで、データセットが混合しないようにする。\n\n- 図を調整をする。\n\n- 図を画像ファイルとして保存する。",
      "metadata": {
        "id": "35fbc1f2-2310-4a6c-9dc6-5fef3d1d330d"
      }
    },
    {
      "id": "8a6c2bff-d55b-4622-94f3-dacb5145cf9e",
      "cell_type": "markdown",
      "source": "## データ源を示す印を付加\n\nすべての既存のデータに同じ値を設定するには `データ.assign(項目名=...)` を利用することができます。\n\n以下のコードセルでは、すでに読み込んで `he1` と命名されたデータに `Heuristics` というデータの出自を表す欄を追加し、その値を `he1` としています。この設定によって、`he1` に含まれるデータの出自を `Heuristics` 欄で確認することができます。",
      "metadata": {
        "id": "8a6c2bff-d55b-4622-94f3-dacb5145cf9e"
      }
    },
    {
      "id": "791f8dfe-d2fd-40d3-8539-8997779029eb",
      "cell_type": "code",
      "source": "he1.assign(Heuristics='he1')",
      "metadata": {
        "colab": {
          "base_uri": "https://localhost:8080/",
          "height": 359
        },
        "executionInfo": {
          "elapsed": 600,
          "status": "ok",
          "timestamp": 1698715231659,
          "user": {
            "displayName": "kxwakita",
            "userId": "12748446268356622369"
          },
          "user_tz": -540
        },
        "id": "791f8dfe-d2fd-40d3-8539-8997779029eb",
        "outputId": "7f8dbf15-f0cc-4a20-ca4f-33c2185a3b43",
        "trusted": true
      },
      "outputs": [],
      "execution_count": null
    },
    {
      "id": "6e2f7e41-5bb9-48cb-af7c-9adbde5519b0",
      "cell_type": "markdown",
      "source": "## 複数のデータの統合\n\n`cnm`, `he1`, `he2`, `hn` のデータにそれぞれ出自を設定したものを `pd.concat([データ1, データ2, ...])` によって統合し、統合したデータに `size_etime_all` と命名します。",
      "metadata": {
        "id": "6e2f7e41-5bb9-48cb-af7c-9adbde5519b0"
      }
    },
    {
      "id": "ac7ac8ab-93b1-4e96-8c02-711abd6cb692",
      "cell_type": "code",
      "source": "size_etime_all = pd.concat([cnm.assign(Heuristics='cnm'),\n                            he1.assign(Heuristics='he1'),\n                            he2.assign(Heuristics='he2'),\n                            hn.assign(Heuristics='hn')])",
      "metadata": {
        "id": "ac7ac8ab-93b1-4e96-8c02-711abd6cb692",
        "trusted": true
      },
      "outputs": [],
      "execution_count": null
    },
    {
      "id": "20ff31c8",
      "cell_type": "markdown",
      "source": "では、４つのデータを統合して、何が得られたか見てましょう。`Heuristics` 欄に各データの出自が区別できることがわかりますか。",
      "metadata": {}
    },
    {
      "id": "e5ee268b-0b76-44d4-9767-a37cb427fcdc",
      "cell_type": "code",
      "source": "size_etime_all",
      "metadata": {
        "colab": {
          "base_uri": "https://localhost:8080/",
          "height": 419
        },
        "executionInfo": {
          "elapsed": 599,
          "status": "ok",
          "timestamp": 1698715231659,
          "user": {
            "displayName": "kxwakita",
            "userId": "12748446268356622369"
          },
          "user_tz": -540
        },
        "id": "e5ee268b-0b76-44d4-9767-a37cb427fcdc",
        "outputId": "ce453633-b58f-4327-8555-1f6deffcadc3",
        "trusted": true
      },
      "outputs": [],
      "execution_count": null
    },
    {
      "id": "4fa3d178-90f5-4f1b-ab9a-4385b08f1fa7",
      "cell_type": "markdown",
      "source": "## 複数のデータ源を含むデータの描画",
      "metadata": {
        "id": "4fa3d178-90f5-4f1b-ab9a-4385b08f1fa7"
      }
    },
    {
      "id": "13851e6e",
      "cell_type": "markdown",
      "source": "４つのデータが `size_etime_all` に統合されたので、さっそくグラフを描画してみましょう。\n\n単独のデータから方法したときと同様に、描いてみましょう。",
      "metadata": {
        "id": "13851e6e"
      }
    },
    {
      "id": "a14cee96",
      "cell_type": "code",
      "source": "px.line(size_etime_all,\n        x='size', y='etime',\n        )",
      "metadata": {
        "colab": {
          "base_uri": "https://localhost:8080/",
          "height": 542
        },
        "executionInfo": {
          "elapsed": 598,
          "status": "ok",
          "timestamp": 1698715231659,
          "user": {
            "displayName": "kxwakita",
            "userId": "12748446268356622369"
          },
          "user_tz": -540
        },
        "id": "a14cee96",
        "outputId": "ccb7d96a-2eca-469e-fbdc-0b8dcf968569",
        "trusted": true
      },
      "outputs": [],
      "execution_count": null
    },
    {
      "id": "5c0b4f0b",
      "cell_type": "markdown",
      "source": "あれあれ、おかしなものが出てきましたよ。\n\n本当は、４つのグラフを重ねあわせたものを描画したかったのに。\n\n**考えてみよう**\n\n- なんで、こんな出力になってしまったんだろう。もしかしてデータが破損している？\n\n- 想定どおりの出力を得るには、どうすればいいだろうか？",
      "metadata": {}
    },
    {
      "id": "5875d13f",
      "cell_type": "markdown",
      "source": "以下のコードセルは統合されたデータのなかから `size_etime_all` `Heuristics` 欄が `cnm` になっているデータだけを抽出して描画しています。この画像を以前、CNM データを表示した図を見比べてみましょう。特に問題なさそうですね。\n\nつまり、データは破損していないようです。",
      "metadata": {
        "id": "5875d13f"
      }
    },
    {
      "id": "b155a72c",
      "cell_type": "code",
      "source": "px.line(size_etime_all.query('Heuristics==\"cnm\"'),\n        x='size', y='etime',\n        )",
      "metadata": {
        "colab": {
          "base_uri": "https://localhost:8080/",
          "height": 542
        },
        "executionInfo": {
          "elapsed": 1049,
          "status": "ok",
          "timestamp": 1698715232111,
          "user": {
            "displayName": "kxwakita",
            "userId": "12748446268356622369"
          },
          "user_tz": -540
        },
        "id": "b155a72c",
        "outputId": "7b969879-94f3-47b2-c9ae-94154267b18e",
        "trusted": true
      },
      "outputs": [],
      "execution_count": null
    },
    {
      "id": "9e13ad67",
      "cell_type": "markdown",
      "source": "上のコードでは、4種のデータを含む統合データセットの内容をひとつの折れ線グラフとして出力してしまっています。\n\n目的とする出力を得るためには、データセットの内容を `Heuristics` 欄で区別して、それぞれを個別の折れ線グラフとして出力する必要があります。",
      "metadata": {}
    },
    {
      "id": "405ff03c",
      "cell_type": "markdown",
      "source": "このように欄の値ごとに個別の線を描き分けるためには `px.line` にパラメタを追加することで「どの欄のデータを用いて描きわけるか」を伝えます。\n\n以下のコードセルは `Heuristics` 欄にしたがって、**異なる色** (`color`) を利用して線を描きわけることを指示しています。",
      "metadata": {
        "id": "405ff03c"
      }
    },
    {
      "id": "1ab70255-9a00-4448-af86-b92d9a94741c",
      "cell_type": "code",
      "source": "px.line(size_etime_all,\n        x='size', y='etime',\n        color='Heuristics',\n        )",
      "metadata": {
        "colab": {
          "base_uri": "https://localhost:8080/",
          "height": 542
        },
        "executionInfo": {
          "elapsed": 424,
          "status": "ok",
          "timestamp": 1698715232111,
          "user": {
            "displayName": "kxwakita",
            "userId": "12748446268356622369"
          },
          "user_tz": -540
        },
        "id": "1ab70255-9a00-4448-af86-b92d9a94741c",
        "outputId": "e8ece687-0b27-4af1-b0bc-4ea341dc84ef",
        "trusted": true
      },
      "outputs": [],
      "execution_count": null
    },
    {
      "id": "3f4f6659",
      "cell_type": "markdown",
      "source": "`px.line(...)` は、線を色で描き分けるかわりに、**異なる線種**を用いて描きわけることもできます。その場合は `line_dash='欄の名前',` で指定します。",
      "metadata": {}
    },
    {
      "id": "3ef514f0",
      "cell_type": "code",
      "source": "px.line(size_etime_all,\n        x='size', y='etime',\n        line_dash='Heuristics',\n        )",
      "metadata": {
        "colab": {
          "base_uri": "https://localhost:8080/",
          "height": 542
        },
        "executionInfo": {
          "elapsed": 423,
          "status": "ok",
          "timestamp": 1698715232111,
          "user": {
            "displayName": "kxwakita",
            "userId": "12748446268356622369"
          },
          "user_tz": -540
        },
        "id": "3ef514f0",
        "outputId": "ab52b8e0-72c0-4bb1-fb06-30058aab51eb",
        "scrolled": true,
        "trusted": true
      },
      "outputs": [],
      "execution_count": null
    },
    {
      "id": "87479588",
      "cell_type": "markdown",
      "source": "# 図の調整",
      "metadata": {
        "id": "87479588"
      }
    },
    {
      "id": "39df3e66",
      "cell_type": "markdown",
      "source": "## 対数スケール\n\n与えられたデータセットにおけるデータの値の振れ幅が大きい場合は、しばしばその値を対数 ($\\log$ 関数)でスケーリングしたものを利用することがあります。普通の場合は、軸の値の目盛の値は $1, 2, 3, 4, 5, \\ldots$ というように線型に並びます。一方、対数スケールを採用した場合は $1, 10, 100, 1000, \\ldots$ のように、隣あった目盛は対数の底倍の値をとります。\n\nPlotly Express で対数スケーリングを利用するには、軸名に `log_` を指定できます。以下では `px.line(...)` に `log_x=True,` という設定を施すことで横軸方法に対数スケーリングを適用しています。なお目盛のラベルの 100k, 1M という記号に用いられている k は千、Mは百万を表します。つまり、100k, 1M はそれぞれ10万、100万を意味します。対数スケーリングでは普通の対数の底を 10 にしますけれども、10万の次の目盛が10倍の100万となっていることがわかります。",
      "metadata": {
        "id": "39df3e66"
      }
    },
    {
      "id": "ea4e613d",
      "cell_type": "code",
      "source": "px.line(size_etime_all,\n        x='size', y='etime',\n        line_dash='Heuristics',\n        log_x=True,\n        )",
      "metadata": {
        "colab": {
          "base_uri": "https://localhost:8080/",
          "height": 542
        },
        "executionInfo": {
          "elapsed": 422,
          "status": "ok",
          "timestamp": 1698715232111,
          "user": {
            "displayName": "kxwakita",
            "userId": "12748446268356622369"
          },
          "user_tz": -540
        },
        "id": "ea4e613d",
        "outputId": "c524f8f3-c87f-42d0-9509-31b4d32a70c5",
        "trusted": true
      },
      "outputs": [],
      "execution_count": null
    },
    {
      "id": "af8542ca",
      "cell_type": "markdown",
      "source": "## 軸のラベル\n\nまだ見本の図と異なる点があります。両軸のラベルです。見本では横軸のラベルは `Size of Social Network`、縦軸のラベルは `Elapsed Time [sec]` となっています。\n\n軸のラベルの設定はすこしややこしいですが、`px.line(...)` のなかで以下のように設定します。\n\n~~~\npx.line(...,\n        ...\n        labels={ '横軸に指定したデータの欄': '横軸のラベル',\n                '縦軸に指定されたデータの欄': '縦軸のラベル' },\n        )\n~~~",
      "metadata": {
        "id": "af8542ca"
      }
    },
    {
      "id": "ba87053d",
      "cell_type": "code",
      "source": "px.line(size_etime_all,\n        x='size', y='etime',\n        line_dash='Heuristics',\n        log_x=True,\n        labels={ 'size': 'Size of Social Network',\n                'etime': 'Elapsed Time [sec]' },\n        )",
      "metadata": {
        "colab": {
          "base_uri": "https://localhost:8080/",
          "height": 542
        },
        "executionInfo": {
          "elapsed": 1186,
          "status": "ok",
          "timestamp": 1698715232875,
          "user": {
            "displayName": "kxwakita",
            "userId": "12748446268356622369"
          },
          "user_tz": -540
        },
        "id": "ba87053d",
        "outputId": "e57e17f1-c33e-4151-da8f-1bf60d3aca33",
        "trusted": true
      },
      "outputs": [],
      "execution_count": null
    },
    {
      "id": "cd23960d-172b-4ee3-ac2e-d684f12e5e0f",
      "cell_type": "markdown",
      "source": "# 画像ファイルの生成\n\nようやくグラフの描画が完成しました。\n\nところで、ここでブラウザに出力されたグラフは、論文やプレゼンテーション資料のなかで利用したいですよね。そのための画像ファイルを生成しましょう。描画した図を画像ファイルに保存するには、`図.write_image('画像ファイルのパス')` を用います。\n\n以下のコードセルは、統合された折れ線グラフから PDF ファイルと PNG ファイルを生成し、それぞれ `images` フォルダのなかの `fig5.pdf` と `fig5.png` というファイル名で保存しています。\n\n**※ 注意:** JupyterLite 環境では画像ファイルを生成することはできません。以下のセルを実行してもエラーになります。",
      "metadata": {
        "id": "cd23960d-172b-4ee3-ac2e-d684f12e5e0f"
      }
    },
    {
      "id": "8f3550e3-1fbd-48a3-bcae-9a68577662b0",
      "cell_type": "code",
      "source": "pio.kaleido.scope.mathjax = None\n\nfigure = px.line(size_etime_all,\n            x='size', y='etime',\n            line_dash='Heuristics',\n            log_x=True,\n            labels={ 'size': 'Size of Social Network',\n                     'etime': 'Elapsed Time [sec]' },\n        )\n\nfigure.write_image('images/fig5-all-etime-size.pdf')\nfigure.write_image('images/fig5-all-etime-size.png')",
      "metadata": {
        "id": "8f3550e3-1fbd-48a3-bcae-9a68577662b0",
        "trusted": true
      },
      "outputs": [],
      "execution_count": null
    },
    {
      "id": "Zlagc_FBWZxy",
      "cell_type": "markdown",
      "source": "**注意**\n\n出力された PDF の左下の灰色の枠内に \"Loading [MathJax]/extensions/MathMenu.js\" というメッセージが含まれることがあります。\n\n画像をファイルに出力するときに、MathJax というパッケージを読み込むのですが、このメッセージは「MathJax を読み込んでいる途中です」と報せています。本来、このメッセージが画像ファイルに含まれてしまうのは、システムのバグなんですが、はいってしまうのは仕方がありません。\n\nこのような場合は、上のコードセルを再実行してみて下さい。二度目に実行するときはすでにパッケージの初期化は完了しているので、このメッセージは表示されないと思います。\n",
      "metadata": {
        "id": "Zlagc_FBWZxy"
      }
    },
    {
      "id": "0e9059e9",
      "cell_type": "markdown",
      "source": "---",
      "metadata": {}
    },
    {
      "id": "aa9dc331",
      "cell_type": "markdown",
      "source": "# 課題１：図６\n\n課題１（図３）にならって、図６を `images/fig3.pdf` として作成しなさい。\n\n図３とは異なり、図６は CNM 手法のデータを含まない点に注意すること。",
      "metadata": {}
    },
    {
      "id": "20c36cf3",
      "cell_type": "markdown",
      "source": "## 手順1: 図６を作成するのに必要なデータを探そう\n\n配布されたデータについての説明を読み図６を作成するのに用いられたデータを探しなさい。データが見つかったら、以下のコードセルの `data/ここを埋める` の部分を適宜修正して、そのパスを指定しなさい。`data/ここを埋める` という箇所は３箇所あることに注意しなさい。",
      "metadata": {}
    },
    {
      "id": "1c4205a4",
      "cell_type": "code",
      "source": "he1 = pd.read_csv('data/ここを埋める', sep=' ', names=['size', 'etime'])\nhe2 = pd.read_csv('data/ここを埋める', sep=' ', names=['size', 'etime'])\nhn  = pd.read_csv('data/ここを埋める', sep=' ', names=['size', 'etime'])",
      "metadata": {
        "trusted": true
      },
      "outputs": [],
      "execution_count": null
    },
    {
      "id": "85ab5cf6",
      "cell_type": "markdown",
      "source": "## 手順２：３つのデータを統合しよう\n\n課題１と同様に３つのデータを `pd.concat([..., ])` によって統合します。手順１ができていれば、以下のコードセルの修正は必要ありません。",
      "metadata": {}
    },
    {
      "id": "d397c22c",
      "cell_type": "code",
      "source": "# このコードセルは修正しなくて大丈夫\n\nsize_etime_all = pd.concat([he1.assign(Heuristics='he1'),\n                            he2.assign(Heuristics='he2'),\n                            hn.assign(Heuristics='hn')])",
      "metadata": {
        "trusted": true
      },
      "outputs": [],
      "execution_count": null
    },
    {
      "id": "1a3d236b",
      "cell_type": "markdown",
      "source": "## 手順３：グラフの描画\n\n課題１と同様に統合したデータを使ってグラフを描画します。\n\n以下のコードセルは未完成です。このまま実行するとエラーになります。\n\n- まず、`ここを埋める`を適宜埋めましょう。\n\n- まだ、足りない設定があります。適宜、追加しましょう。課題１のコードセルを参考にして下さい。\n\n- `'` や、`,` の使い方に注意して下さい。小さな間違いでもびっくりするような大きなエラーが出力されます。\n\n- お手本と見比べながら、図５を出力したときの操作を参考に、お手本に忠実な出力が得られるに調整しましょう。",
      "metadata": {}
    },
    {
      "id": "e697ca93",
      "cell_type": "code",
      "source": "figure6 = px.line(size_etime_all,\n            x='size', y='etime',\n            line_dash='Heuristics',\n            labels={ 'size': 'ここを埋める',\n                     'etime': 'ここを埋める' },\n        )\n\nfigure6.show()",
      "metadata": {
        "trusted": true
      },
      "outputs": [],
      "execution_count": null
    },
    {
      "id": "298fbfb2",
      "cell_type": "code",
      "source": "",
      "metadata": {
        "trusted": true
      },
      "outputs": [],
      "execution_count": null
    },
    {
      "id": "ea2767c3",
      "cell_type": "markdown",
      "source": "## 図４：画像ファイルの保存\n\n課題１−４と同様にグラフを PDF 形式で保存します。保存するファイル名は `images/fig6-tw-etime-size-M.pdf` とします。\n\n以下のコードセルの `ここを埋める` を適宜修正しなさい。",
      "metadata": {}
    },
    {
      "id": "328c1862",
      "cell_type": "code",
      "source": "figure6.write_image('ここを埋める')\n\n!ls images",
      "metadata": {
        "trusted": true
      },
      "outputs": [],
      "execution_count": null
    },
    {
      "id": "9d2c892c",
      "cell_type": "markdown",
      "source": "## 手順5: 確認と調整\n\n出力された画像を開いて適切な出力が得られたか確認しましょう。必要ならばスクリプトを調整しましょう。",
      "metadata": {}
    },
    {
      "id": "09b63219",
      "cell_type": "markdown",
      "source": "",
      "metadata": {}
    }
  ]
}