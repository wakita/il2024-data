{
  "cells": [
    {
      "cell_type": "markdown",
      "id": "ClzkFlDbT2WO",
      "metadata": {
        "id": "ClzkFlDbT2WO"
      },
      "source": [
        "# 大きなデータセットの扱い（図３と図７）\n",
        "\n",
        "数十万項目を含む大きなデータセットの散布図を作成する実習です。大きなファイルを扱うときには、データセットの読み込み、その処理、そして描画には大きな計算資源が必要になります。描画方式が不適切な場合には計算資源が枯渇するために、閲覧が困難な場合もしばしばあります。\n",
        "\n",
        "この実習では大きなデータセットを扱うときに注意すべき点について学びます。"
      ]
    },
    {
      "cell_type": "code",
      "execution_count": null,
      "id": "04e82e28",
      "metadata": {
        "trusted": true
      },
      "outputs": [],
      "source": [
        "%pip install -q pandas nbformat plotly\n",
        "\n",
        "import pandas as pd\n",
        "pd.set_option('display.max_rows', 10)    # 大きな表の表示領域を上下5行分のみに制限する設定\n",
        "\n",
        "import plotly.express as px"
      ]
    },
    {
      "cell_type": "markdown",
      "id": "03ae55c2-a4e0-4195-ae20-adb026894a5f",
      "metadata": {
        "id": "03ae55c2-a4e0-4195-ae20-adb026894a5f"
      },
      "source": [
        "## データセットの読み込み\n",
        "\n",
        "Clauset, Newman, Morgan が 2004 年に提案した CNM 法における、合併比率の変化を観察するために、合併比率の散布図 (Scatter plot) を描画します。\n",
        "\n",
        "合併比率のデータは `data/cnm/ratio-join.data` に保存されているので、それを実習１と同様の方法で読み込みます。このデータセットには合併順を表す合併順番号 (#Joins) と、合併比率 (consolidation ratio) が記録されています。それぞれに `joins` と `ratio` という属性名を与えます。"
      ]
    },
    {
      "cell_type": "code",
      "execution_count": null,
      "id": "a183cdca-786c-40bb-91ad-fb977b0692e4",
      "metadata": {
        "id": "a183cdca-786c-40bb-91ad-fb977b0692e4",
        "trusted": true
      },
      "outputs": [],
      "source": [
        "cnm = pd.read_csv('data/cnm/ratio-join.data', sep=' ', names=['joins', 'ratio'])"
      ]
    },
    {
      "cell_type": "markdown",
      "id": "7dc0qLkgsN2v",
      "metadata": {
        "id": "7dc0qLkgsN2v"
      },
      "source": [
        "Plotly は散布図を描くための `px.scatter(データセット, x='横軸の属性名', y='縦軸の属性名', ...)` という機能を提供しています。\n",
        "\n",
        "以下のコードセルを実行することで、散布図を描くことができます。\n",
        "\n",
        "このデータセットは非常に43万個と非常に多くのデータ項目を含んでおり、デフォルトの設定で描画するとグラフの右端が塗り潰されてしまいます。このため、個々の点の大きさを 1 に設定することで見易くしています。このための設定が以下です。\n",
        "\n",
        "~~~\n",
        "fig_cnm.update_traces(marker_size=1)\n",
        "~~~"
      ]
    },
    {
      "cell_type": "code",
      "execution_count": null,
      "id": "cd6yP8zP25Gx",
      "metadata": {
        "colab": {
          "base_uri": "https://localhost:8080/",
          "height": 617,
          "output_embedded_package_id": "1MojYiUK_rN28Q5wj1vkIKA9zcSHQmDIp"
        },
        "executionInfo": {
          "elapsed": 6137,
          "status": "ok",
          "timestamp": 1698724859182,
          "user": {
            "displayName": "kxwakita",
            "userId": "12748446268356622369"
          },
          "user_tz": -540
        },
        "id": "cd6yP8zP25Gx",
        "outputId": "8623558c-cf47-4751-a8a0-6e9d7319bfdd",
        "trusted": true
      },
      "outputs": [],
      "source": [
        "fig_cnm = px.scatter(cnm,\n",
        "                x='joins', y='ratio',\n",
        "                render_mode='webgl',\n",
        "                width=800, height=600)\n",
        "fig_cnm.update_traces(marker_size=1)\n",
        "fig_cnm.show()"
      ]
    },
    {
      "cell_type": "markdown",
      "id": "fgcgA-gb3G_T",
      "metadata": {
        "id": "fgcgA-gb3G_T"
      },
      "source": [
        "縦軸の合併比率の偏差が激しいため、#Joins が 300K 周辺の様子しか観察することができません。そこで、縦軸を対数表示にして描画しましょう。"
      ]
    },
    {
      "cell_type": "code",
      "execution_count": null,
      "id": "sqbGy6qtrkMw",
      "metadata": {
        "colab": {
          "base_uri": "https://localhost:8080/",
          "height": 617,
          "output_embedded_package_id": "1exp11rnL7QSS88NJAsd6vXebFRq9Mnbj"
        },
        "executionInfo": {
          "elapsed": 7035,
          "status": "ok",
          "timestamp": 1698722137287,
          "user": {
            "displayName": "kxwakita",
            "userId": "12748446268356622369"
          },
          "user_tz": -540
        },
        "id": "sqbGy6qtrkMw",
        "outputId": "9b0eb7ec-c339-4e84-c412-026954db4bc1",
        "trusted": true
      },
      "outputs": [],
      "source": [
        "fig_cnm = px.scatter(cnm,\n",
        "                x='joins', y='ratio',\n",
        "                log_y=True,\n",
        "                render_mode='webgl',\n",
        "                width=800, height=600,\n",
        "                template='simple_white')\n",
        "fig_cnm.update_traces(marker_size=1)\n",
        "fig_cnm.show()"
      ]
    },
    {
      "cell_type": "markdown",
      "id": "SZ30qxn108K1",
      "metadata": {
        "id": "SZ30qxn108K1"
      },
      "source": [
        "\n",
        "## 注意\n",
        "\n",
        "図の作成方法について、いくつか注意すべき点があります。\n",
        "\n",
        "- このデータセットは約43万個のデータ項目を含みます。これらをすべてベクトル画像として描くと、大変な計算資源を消費します。上のコードセルでは、グラフィックプロセッサ (GPU) を用いた描画を高速描画機能を指定 (`rendering_mode='webgl'`)しました。\n",
        "\n",
        "    この機能を指定しないとウェブブラウザが固まる恐れがあります。この場合、なにが起きるのか、教員のデモを眺めてみましょう。\n",
        "\n",
        "- Plotly が散布図を描くときは普通は各点はもっと大きく描かれます。データ項目数が少ない場合は見易いのですが、今回のデータセットのようにデータ項目数が多くなるとデータ項目を表す点の重なり合いが激しくなるために困ります。\n",
        "\n",
        "    そこで、上のコードセルでは `fig_cnm.update_traces(marker_size=1)` という指示により、データ点を1ピクセルで描かせることで、この問題を回避しています。このような手法でも図が見難い場合は、[二次元ヒストグラム](https://plotly.com/python/2D-Histogram/)、[コンター図](https://plotly.com/python/contour-plots/)などの利用を検討しましょう。"
      ]
    },
    {
      "cell_type": "markdown",
      "id": "TGpNtaBhxEiN",
      "metadata": {
        "id": "TGpNtaBhxEiN"
      },
      "source": [
        "---"
      ]
    },
    {
      "cell_type": "markdown",
      "id": "-s-BZyVixIeH",
      "metadata": {
        "id": "-s-BZyVixIeH"
      },
      "source": [
        "# 課題：図７\n",
        "\n",
        "図３の実習内容にならって図７を完成し、`images/fig7-hn-ratio-joins.png` という名前で出力しなさい。\n",
        "\n",
        "1. 入力データとして、どのファイルを扱えばよいか考えよう。\n",
        "\n",
        "1. データを描画し、ブラウザの上で観察し、問題がないか確認しよう。\n",
        "\n",
        "1. 出力ファイル名を指定するにはスクリプトのどの部分を変更すべきか考えよう。\n",
        "\n",
        "1. 出力できたと思ったら、Jupyter のファイルブラウザで確かにファイルが出力されたか確認しよう。\n",
        "\n",
        "1. 出力された画像を開いて適切な出力が得られたか確認しよう。"
      ]
    },
    {
      "cell_type": "markdown",
      "id": "f2e1a7d8",
      "metadata": {},
      "source": [
        "## 手順1: 図7を作成するのに必要なデータを探そう\n",
        "\n",
        "配布されたデータについての説明を読み図7を作成するのに用いられたデータを探しなさい。データが見つかったら、以下のコードセルの `data/ここを埋める` の部分を適宜修正して、そのパスを指定しなさい。"
      ]
    },
    {
      "cell_type": "code",
      "execution_count": null,
      "id": "4a867e82",
      "metadata": {},
      "outputs": [],
      "source": [
        "hn = pd.read_csv('data/ここを埋める', sep=' ', names=['joins', 'ratio'])\n",
        "\n",
        "hn"
      ]
    },
    {
      "cell_type": "markdown",
      "id": "dc6da9a7",
      "metadata": {},
      "source": [
        "## 手順2-3: グラフの描画\n",
        "\n",
        "読み込んだデータを使ってグラフを描画します。\n",
        "\n",
        "以下のコードセルは未完成です。このまま実行してもグラフは生成されますが、お手本とすこし異なった点があります。お手本と見比べながら、完成して下さい。\n",
        "\n",
        "- まず、`ここを埋める`を適宜埋めましょう。\n",
        "\n",
        "- まだ、足りない設定があります。適宜、追加しましょう。課題１のコードセルを参考にして下さい。\n",
        "\n",
        "- `'` や、`,` の使い方に注意して下さい。小さな間違いでもびっくりするような大きなエラーが出力されます。\n",
        "\n",
        "- お手本と見比べながら、図３を出力したときの操作を参考に、お手本に忠実な出力が得られるように調整しましょう。"
      ]
    },
    {
      "cell_type": "code",
      "execution_count": null,
      "id": "67c36ae8",
      "metadata": {},
      "outputs": [],
      "source": [
        "fig_hn = px.scatter(hn,\n",
        "                x='ここを埋める', y='ここを埋める',\n",
        "                log_y=True,\n",
        "                render_mode='webgl',\n",
        "                width=800, height=600)\n",
        "\n",
        "fig_hn.update_traces(ここを埋める)\n",
        "\n",
        "fig_hn.show()"
      ]
    },
    {
      "cell_type": "markdown",
      "id": "ee154f50",
      "metadata": {},
      "source": [
        "## 手順4: 画像ファイルの保存\n",
        "\n",
        "課題１−４と同様にグラフを PNG 形式で保存します。保存するファイル名は `images/fig7-hn-ratio-join-500K.png` とします。\n",
        "\n",
        "以下のコードセルの `ここを埋める` を適宜修正しなさい。"
      ]
    },
    {
      "cell_type": "code",
      "execution_count": null,
      "id": "R9QrKgW_yGgf",
      "metadata": {
        "colab": {
          "base_uri": "https://localhost:8080/"
        },
        "executionInfo": {
          "elapsed": 4471,
          "status": "ok",
          "timestamp": 1698724813175,
          "user": {
            "displayName": "kxwakita",
            "userId": "12748446268356622369"
          },
          "user_tz": -540
        },
        "id": "R9QrKgW_yGgf",
        "outputId": "de11ab53-c06b-47bd-95fc-41c149e2d3e8",
        "trusted": true
      },
      "outputs": [],
      "source": [
        "# 回答例（画像ファイルの出力）\n",
        "\n",
        "fig_hn.write_image('ここを埋める')\n",
        "\n",
        "!ls images"
      ]
    },
    {
      "cell_type": "markdown",
      "id": "f492cf66",
      "metadata": {},
      "source": [
        "## 手順5: 確認と調整\n",
        "\n",
        "出力された画像を開いて適切な出力が得られたか確認しましょう。必要ならばスクリプトを調整しましょう。"
      ]
    },
    {
      "cell_type": "markdown",
      "id": "77a79d4a",
      "metadata": {},
      "source": []
    }
  ],
  "metadata": {
    "colab": {
      "provenance": [],
      "toc_visible": true
    },
    "kernelspec": {
      "display_name": "Python (Pyodide)",
      "language": "python",
      "name": "python"
    },
    "language_info": {
      "codemirror_mode": {
        "name": "python",
        "version": 3
      },
      "file_extension": ".py",
      "mimetype": "text/x-python",
      "name": "python",
      "nbconvert_exporter": "python",
      "pygments_lexer": "ipython3",
      "version": "3.8"
    }
  },
  "nbformat": 4,
  "nbformat_minor": 5
}
