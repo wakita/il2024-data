{
  "metadata": {
    "kernelspec": {
      "display_name": "Python (Pyodide)",
      "language": "python",
      "name": "python"
    },
    "language_info": {
      "codemirror_mode": {
        "name": "python",
        "version": 3
      },
      "file_extension": ".py",
      "mimetype": "text/x-python",
      "name": "python",
      "nbconvert_exporter": "python",
      "pygments_lexer": "ipython3",
      "version": "3.8"
    },
    "colab": {
      "provenance": [],
      "toc_visible": true
    }
  },
  "nbformat_minor": 5,
  "nbformat": 4,
  "cells": [
    {
      "id": "ClzkFlDbT2WO",
      "cell_type": "markdown",
      "source": "# 大きなデータセットの扱い（図３と図７）\n\n数十万項目を含む大きなデータセットの散布図を作成する実習です。大きなファイルを扱うときには、データセットの読み込み、その処理、そして描画には大きな計算資源が必要になります。描画方式が不適切な場合には計算資源が枯渇するために、閲覧が困難な場合もしばしばあります。\n\nこの実習では大きなデータセットを扱うときに注意すべき点について学びます。",
      "metadata": {
        "id": "ClzkFlDbT2WO"
      }
    },
    {
      "id": "04e82e28",
      "cell_type": "code",
      "source": "%pip install -q pandas nbformat plotly\n\nimport pandas as pd\npd.set_option('display.max_rows', 10)    # 大きな表の表示領域を上下5行分のみに制限する設定\n\nimport plotly.express as px\nimport plotly.io as pio\npio.templates.default = 'plotly_white'   # 図の背景色を白に設定",
      "metadata": {
        "trusted": true
      },
      "outputs": [],
      "execution_count": null
    },
    {
      "id": "03ae55c2-a4e0-4195-ae20-adb026894a5f",
      "cell_type": "markdown",
      "source": "## データセットの読み込み\n\nClauset, Newman, Morgan が 2004 年に提案した CNM 法における、合併比率の変化を観察するために、合併比率の散布図 (Scatter plot) を描画します。\n\n合併比率のデータは `data/cnm/ratio-join.data` に保存されているので、それを実習１と同様の方法で読み込みます。このデータセットには合併順を表す合併順番号 (#Joins) と、合併比率 (consolidation ratio) が記録されています。それぞれに `joins` と `ratio` という属性名を与えます。",
      "metadata": {
        "id": "03ae55c2-a4e0-4195-ae20-adb026894a5f"
      }
    },
    {
      "id": "a183cdca-786c-40bb-91ad-fb977b0692e4",
      "cell_type": "code",
      "source": "cnm = pd.read_csv('data/cnm/ratio-join.data', sep=' ', names=['joins', 'ratio'])",
      "metadata": {
        "id": "a183cdca-786c-40bb-91ad-fb977b0692e4",
        "trusted": true
      },
      "outputs": [],
      "execution_count": null
    },
    {
      "id": "7dc0qLkgsN2v",
      "cell_type": "markdown",
      "source": "Plotly は散布図を描くための `px.scatter(データセット, x='横軸の属性名', y='縦軸の属性名', ...)` という機能を提供しています。\n\n以下のコードセルを実行することで、散布図を描くことができます。\n\nこのデータセットは非常に43万個と非常に多くのデータ項目を含んでおり、デフォルトの設定で描画するとグラフの右端が塗り潰されてしまいます。このため、個々の点の大きさを 1 に設定することで見易くしています。このための設定が以下です。\n\n~~~\nfig_cnm.update_traces(marker_size=1)\n~~~",
      "metadata": {
        "id": "7dc0qLkgsN2v"
      }
    },
    {
      "id": "cd6yP8zP25Gx",
      "cell_type": "code",
      "source": "fig_cnm = px.scatter(cnm,\n                x='joins', y='ratio',\n                render_mode='webgl',\n                width=800, height=600)\nfig_cnm.update_traces(marker_size=1)     # 散布図の点の大きさを指定\nfig_cnm.update_layout(hovermode=False)   # マウスホバーに伴なう情報提示をしない\nfig_cnm.show()",
      "metadata": {
        "colab": {
          "base_uri": "https://localhost:8080/",
          "height": 617,
          "output_embedded_package_id": "1MojYiUK_rN28Q5wj1vkIKA9zcSHQmDIp"
        },
        "executionInfo": {
          "elapsed": 6137,
          "status": "ok",
          "timestamp": 1698724859182,
          "user": {
            "displayName": "kxwakita",
            "userId": "12748446268356622369"
          },
          "user_tz": -540
        },
        "id": "cd6yP8zP25Gx",
        "outputId": "8623558c-cf47-4751-a8a0-6e9d7319bfdd",
        "trusted": true
      },
      "outputs": [],
      "execution_count": null
    },
    {
      "id": "fgcgA-gb3G_T",
      "cell_type": "markdown",
      "source": "縦軸の合併比率の偏差が激しいため、#Joins が 300K 周辺の様子しか観察することができません。そこで、縦軸を対数表示にして描画しましょう。",
      "metadata": {
        "id": "fgcgA-gb3G_T"
      }
    },
    {
      "id": "sqbGy6qtrkMw",
      "cell_type": "code",
      "source": "fig_cnm = px.scatter(cnm,\n                x='joins', y='ratio',\n                log_y=True,\n                render_mode='webgl',\n                width=800, height=600)\n                #template='simple_white')\nfig_cnm.update_traces(marker_size=1)     # 散布図の点の大きさを指定\nfig_cnm.update_layout(hovermode=False)   # マウスホバーに伴なう情報提示をしない\nfig_cnm.show()",
      "metadata": {
        "colab": {
          "base_uri": "https://localhost:8080/",
          "height": 617,
          "output_embedded_package_id": "1exp11rnL7QSS88NJAsd6vXebFRq9Mnbj"
        },
        "executionInfo": {
          "elapsed": 7035,
          "status": "ok",
          "timestamp": 1698722137287,
          "user": {
            "displayName": "kxwakita",
            "userId": "12748446268356622369"
          },
          "user_tz": -540
        },
        "id": "sqbGy6qtrkMw",
        "outputId": "9b0eb7ec-c339-4e84-c412-026954db4bc1",
        "trusted": true
      },
      "outputs": [],
      "execution_count": null
    },
    {
      "id": "SZ30qxn108K1",
      "cell_type": "markdown",
      "source": "\n## 注意\n\n図の作成方法について、いくつか注意すべき点があります。\n\n- このデータセットは約43万個のデータ項目を含みます。これらをすべてベクトル画像として描くと、大変な計算資源を消費します。上のコードセルでは、グラフィックプロセッサ (GPU) を用いた描画を高速描画機能を指定 (`rendering_mode='webgl'`)しました。\n\n    この機能を指定しないとウェブブラウザが固まる恐れがあります。この場合、なにが起きるのか、教員のデモを眺めてみましょう。\n\n- Plotly が散布図を描くときは普通は各点はもっと大きく描かれます。データ項目数が少ない場合は見易いのですが、今回のデータセットのようにデータ項目数が多くなるとデータ項目を表す点の重なり合いが激しくなるために困ります。\n\n    そこで、上のコードセルでは `fig_cnm.update_traces(marker_size=1)` という指示により、データ点を1ピクセルで描かせることで、この問題を回避しています。このような手法でも図が見難い場合は、[二次元ヒストグラム](https://plotly.com/python/2D-Histogram/)、[コンター図](https://plotly.com/python/contour-plots/)などの利用を検討しましょう。",
      "metadata": {
        "id": "SZ30qxn108K1"
      }
    },
    {
      "id": "TGpNtaBhxEiN",
      "cell_type": "markdown",
      "source": "---",
      "metadata": {
        "id": "TGpNtaBhxEiN"
      }
    },
    {
      "id": "-s-BZyVixIeH",
      "cell_type": "markdown",
      "source": "# 課題：図７\n\n図３の実習内容にならって図７を完成し、`images/fig7-hn-ratio-joins.png` という名前で出力しなさい。\n\n1. 入力データとして、どのファイルを扱えばよいか考えよう。\n\n1. データを描画し、ブラウザの上で観察し、問題がないか確認しよう。\n\n1. 出力ファイル名を指定するにはスクリプトのどの部分を変更すべきか考えよう。\n\n1. 出力できたと思ったら、Jupyter のファイルブラウザで確かにファイルが出力されたか確認しよう。\n\n1. 出力された画像を開いて適切な出力が得られたか確認しよう。",
      "metadata": {
        "id": "-s-BZyVixIeH"
      }
    },
    {
      "id": "f2e1a7d8",
      "cell_type": "markdown",
      "source": "## 手順1: 図7を作成するのに必要なデータを探そう\n\n配布されたデータについての説明を読み図7を作成するのに用いられたデータを探しなさい。データが見つかったら、以下のコードセルの `data/ここを埋める` の部分を適宜修正して、そのパスを指定しなさい。",
      "metadata": {}
    },
    {
      "id": "4a867e82",
      "cell_type": "code",
      "source": "hn = pd.read_csv('data/ここを埋める', sep=' ', names=['joins', 'ratio'])\n\nhn",
      "metadata": {
        "trusted": true
      },
      "outputs": [],
      "execution_count": null
    },
    {
      "id": "dc6da9a7",
      "cell_type": "markdown",
      "source": "## 手順2-3: グラフの描画\n\n読み込んだデータを使ってグラフを描画します。\n\n以下のコードセルは未完成です。このまま実行してもグラフは生成されますが、お手本とすこし異なった点があります。お手本と見比べながら、完成して下さい。\n\n- まず、`ここを埋める`を適宜埋めましょう。\n\n- まだ、足りない設定があります。適宜、追加しましょう。課題１のコードセルを参考にして下さい。\n\n- `'` や、`,` の使い方に注意して下さい。小さな間違いでもびっくりするような大きなエラーが出力されます。\n\n- お手本と見比べながら、図３を出力したときの操作を参考に、お手本に忠実な出力が得られるように調整しましょう。",
      "metadata": {}
    },
    {
      "id": "67c36ae8",
      "cell_type": "code",
      "source": "fig_hn = px.scatter(hn,\n                x='ここを埋める', y='ここを埋める',\n                log_y=True,\n                render_mode='webgl',\n                width=800, height=600)\n\nfig_hn.update_traces(ここを埋める)\n\nfig_hn.show()",
      "metadata": {
        "trusted": true
      },
      "outputs": [],
      "execution_count": null
    },
    {
      "id": "ee154f50",
      "cell_type": "markdown",
      "source": "## 手順4: 画像ファイルの保存\n\n課題１−４と同様にグラフを PNG 形式で保存します。保存するファイル名は `images/fig7-hn-ratio-join-500K.png` とします。\n\n以下のコードセルの `ここを埋める` を適宜修正しなさい。",
      "metadata": {}
    },
    {
      "id": "R9QrKgW_yGgf",
      "cell_type": "code",
      "source": "# 回答例（画像ファイルの出力）\n\nfig_hn.write_image('ここを埋める')\n\n!ls images",
      "metadata": {
        "colab": {
          "base_uri": "https://localhost:8080/"
        },
        "executionInfo": {
          "elapsed": 4471,
          "status": "ok",
          "timestamp": 1698724813175,
          "user": {
            "displayName": "kxwakita",
            "userId": "12748446268356622369"
          },
          "user_tz": -540
        },
        "id": "R9QrKgW_yGgf",
        "outputId": "de11ab53-c06b-47bd-95fc-41c149e2d3e8",
        "trusted": true
      },
      "outputs": [],
      "execution_count": null
    },
    {
      "id": "f492cf66",
      "cell_type": "markdown",
      "source": "## 手順5: 確認と調整\n\n出力された画像を開いて適切な出力が得られたか確認しましょう。必要ならばスクリプトを調整しましょう。",
      "metadata": {}
    },
    {
      "id": "77a79d4a",
      "cell_type": "markdown",
      "source": "",
      "metadata": {}
    }
  ]
}